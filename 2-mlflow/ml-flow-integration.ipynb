{
 "cells": [
  {
   "cell_type": "code",
   "execution_count": 2,
   "id": "c967df13",
   "metadata": {},
   "outputs": [],
   "source": [
    "from preprocess_data import run_data_prep\n",
    "\n",
    "import pandas as pd\n",
    "import numpy as np\n",
    "import datetime as dt\n",
    "from sklearn.linear_model import LinearRegression\n",
    "from sklearn.model_selection import train_test_split\n",
    "from sklearn import metrics\n",
    "import matplotlib.pyplot as plt\n",
    "%matplotlib inline\n",
    "import sys\n",
    "from sklearn.feature_extraction import DictVectorizer\n",
    "import pickle"
   ]
  },
  {
   "cell_type": "code",
   "execution_count": 2,
   "id": "c8075ea9",
   "metadata": {},
   "outputs": [],
   "source": [
    "def load_data(file_name, lower_threshold, upper_threshold):\n",
    "    #read the file to dataframe\n",
    "    df = pd.read_parquet(file_name)\n",
    "    \n",
    "    #calculation of trip duration in minutes\n",
    "    df['tpep_dropoff_datetime'] = pd.to_datetime(df['tpep_dropoff_datetime'])\n",
    "    df['tpep_pickup_datetime'] = pd.to_datetime(df['tpep_pickup_datetime'])\n",
    "\n",
    "    df['dur_min'] = (df['tpep_dropoff_datetime'] - df['tpep_pickup_datetime']).apply(lambda x: x.total_seconds()/60)\n",
    "    \n",
    "    # Create bool flags for outliers\n",
    "    upper_out = np.where(df['dur_min']>upper_threshold)[0]\n",
    "    lower_out = np.where(df['dur_min']<lower_threshold)[0]\n",
    "\n",
    "    # Removing the outliers\n",
    "    df.drop(index=upper_out, inplace=True)\n",
    "    df.drop(index=lower_out, inplace=True)\n",
    "    #alternative filtering: df1_without_out = df1[(df1.dur_min >= lower_threshold) & (df1.dur_min <= upper_threshold)]\n",
    "    \n",
    "    return df"
   ]
  },
  {
   "cell_type": "code",
   "execution_count": 3,
   "id": "6d1c3da2",
   "metadata": {},
   "outputs": [
    {
     "data": {
      "text/plain": [
       "<Experiment: artifact_location='/home/eugene/Documents/projects/mlops-zoomcamp-ep/2-mlflow/mlruns/1', creation_time=1684595945353, experiment_id='1', last_update_time=1684595945353, lifecycle_stage='active', name='taxi-linear-regr-1', tags={}>"
      ]
     },
     "execution_count": 3,
     "metadata": {},
     "output_type": "execute_result"
    }
   ],
   "source": [
    "#!conda info\n",
    "import mlflow\n",
    "mlflow.set_tracking_uri('sqlite:///mlflow.db')\n",
    "mlflow.set_experiment('taxi-linear-regr-1')"
   ]
  },
  {
   "cell_type": "code",
   "execution_count": 4,
   "id": "734d4391",
   "metadata": {},
   "outputs": [],
   "source": [
    "lower_threshold = 1.0\n",
    "upper_threshold = 60.0\n",
    "\n",
    "#loading January data\n",
    "df1 = load_data('../../data/taxi/yellow_tripdata_2022-01.parquet', lower_threshold, upper_threshold)\n",
    "#loading February data\n",
    "df2 = load_data('../../data/taxi/yellow_tripdata_2022-02.parquet', lower_threshold, upper_threshold)"
   ]
  },
  {
   "cell_type": "code",
   "execution_count": 5,
   "id": "9596d51d",
   "metadata": {},
   "outputs": [],
   "source": [
    "#creating dummy variables\n",
    "#categorical variables\n",
    "cat = ['PULocationID', 'DOLocationID']\n",
    "\n",
    "df1[cat] = df1[cat].astype(str)\n",
    "train_dict = df1[cat].to_dict(orient = 'records')\n",
    "\n",
    "dv = DictVectorizer()\n",
    "X_train = dv.fit_transform(train_dict)\n",
    "\n",
    "#the same for df2\n",
    "df2[cat] = df2[cat].astype(str)\n",
    "test_dict = df2[cat].to_dict(orient = 'records')\n",
    "X_test = dv.transform(test_dict)"
   ]
  },
  {
   "cell_type": "code",
   "execution_count": 8,
   "id": "43916bbd",
   "metadata": {},
   "outputs": [],
   "source": [
    "#creating target variables\n",
    "target = 'dur_min'\n",
    "y_train = df1[target].values\n",
    "y_test = df2[target].values"
   ]
  },
  {
   "cell_type": "code",
   "execution_count": 10,
   "id": "38ec252f",
   "metadata": {},
   "outputs": [],
   "source": [
    "with mlflow.start_run():\n",
    "    \n",
    "    mlflow.set_tag(\"developer\", \"eugene\")\n",
    "    mlflow.log_param('train-data-path', '../../data/taxi/yellow_tripdata_2022-01.parquet')\n",
    "    mlflow.log_param('validation-data-path', '../../data/taxi/yellow_tripdata_2022-02.parquet')\n",
    "    mlflow.log_param('outliers-lower-threshold', lower_threshold)\n",
    "    mlflow.log_param('outliers-upper-threshold', upper_threshold)\n",
    "\n",
    "    model = LinearRegression()\n",
    "    #train linear regression model\n",
    "    model.fit(X_train, y_train)\n",
    "    \n",
    "    #prediction on validation dataset for RMSE calculation\n",
    "    predictions_test = model.predict(X_test)\n",
    "    #calculate RMSE for validation data set\n",
    "    rmse = metrics.mean_squared_error(y_test, predictions_test, squared = False)\n",
    "    \n",
    "    mlflow.log_metric('rmse', rmse)"
   ]
  },
  {
   "cell_type": "code",
   "execution_count": 11,
   "id": "f1f36498",
   "metadata": {},
   "outputs": [],
   "source": [
    "with open('../../models/mlops-zoomcamp-ep/lin_reg.bin', 'wb') as f_out:\n",
    "    pickle.dump((dv, model),f_out)"
   ]
  }
 ],
 "metadata": {
  "kernelspec": {
   "display_name": "Python 3 (ipykernel)",
   "language": "python",
   "name": "python3"
  },
  "language_info": {
   "codemirror_mode": {
    "name": "ipython",
    "version": 3
   },
   "file_extension": ".py",
   "mimetype": "text/x-python",
   "name": "python",
   "nbconvert_exporter": "python",
   "pygments_lexer": "ipython3",
   "version": "3.9.16"
  }
 },
 "nbformat": 4,
 "nbformat_minor": 5
}
